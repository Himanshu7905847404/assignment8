{
 "cells": [
  {
   "cell_type": "code",
   "execution_count": 1,
   "id": "8e847659-6dc2-4632-b60d-ca691ab03ebb",
   "metadata": {},
   "outputs": [],
   "source": [
    "#solution"
   ]
  },
  {
   "cell_type": "code",
   "execution_count": 9,
   "id": "e1ed2c78-82de-422d-b86a-d6b95f6321fb",
   "metadata": {},
   "outputs": [
    {
     "name": "stdout",
     "output_type": "stream",
     "text": [
      "\n",
      "        \n",
      "\tEnter the password and password should follow below instrution :\n",
      "        \n",
      "        1. The Password should contain at least two uppercase letters and at least two lowercase letters.\n",
      "        2. The Password should contain at least a number and three special characters.\n",
      "        3. The length of the password should be 10 characters long.\n",
      "        \n"
     ]
    },
    {
     "name": "stdin",
     "output_type": "stream",
     "text": [
      "\n",
      "\tEnter the password\n",
      " HimaNSh@$&*123\n"
     ]
    },
    {
     "name": "stdout",
     "output_type": "stream",
     "text": [
      "Valid Password\n"
     ]
    }
   ],
   "source": [
    "# Q1.\n",
    "\n",
    "def find1(password,digit,s):\n",
    "    count1 = 0\n",
    "    count2 = 0\n",
    "    count3 = 0\n",
    "    count4 = 0\n",
    "    for i in password:\n",
    "        if i.isupper():\n",
    "            count1+=1\n",
    "        elif i.islower():\n",
    "            count2+=1\n",
    "        elif i in digit:\n",
    "            count3+=1\n",
    "        elif i in s:\n",
    "            count4+=1\n",
    "    if count1>=2 and count2>=2 and count3>=1 and count4>=3:\n",
    "        return \"Valid Password\"\n",
    "    else:\n",
    "        return \"Invalid Password\"\n",
    "\n",
    "print('''\n",
    "        \\n\\tEnter the password and password should follow below instrution :\n",
    "        \n",
    "        1. The Password should contain at least two uppercase letters and at least two lowercase letters.\n",
    "        2. The Password should contain at least a number and three special characters.\n",
    "        3. The length of the password should be 10 characters long.\n",
    "        ''')\n",
    "password = input(\"\\n\\tEnter the password\\n\")\n",
    "# list1 = list(password)\n",
    "digit = []\n",
    "for i in range(10):\n",
    "    digit.append(str(i))\n",
    "special_character = \"[@_!$%^&*()<>?/\\|}{~:]#\"\n",
    "s = list(special_character)\n",
    "if len(password)>=10:\n",
    "    print(find1(password,digit,s))\n",
    "else:\n",
    "    print(\"Invalid Password\")"
   ]
  },
  {
   "cell_type": "code",
   "execution_count": 8,
   "id": "dd010a74-6fce-4fb5-baa2-114526894548",
   "metadata": {},
   "outputs": [
    {
     "name": "stdout",
     "output_type": "stream",
     "text": [
      "\n",
      "\n",
      "       choose atleast one function to start the program to solve questions:\n",
      "       \n",
      "            1. Lambda function\n",
      "            2. Filter function\n",
      "            3. Map function\n",
      "            4. List Comprehension\n",
      "            \n"
     ]
    },
    {
     "name": "stdin",
     "output_type": "stream",
     "text": [
      "\n",
      "\t Enter the string \n",
      " Himanshu\n"
     ]
    },
    {
     "name": "stdout",
     "output_type": "stream",
     "text": [
      "\n",
      "\tYes,string starts with a letter\n",
      "\n",
      "\n",
      "\tNo,string is not numeric \n",
      "\n",
      "\n",
      "\tSort list by its integer value:\n",
      " [('grapes', 1000), ('mango', 99), ('orange', 80)]\n",
      "\n",
      "\t\n",
      " [0, 1, 4, 9, 16, 25, 36, 49, 64, 81, 100]\n",
      "\n",
      "\t\n",
      " [0, 1, 8, 27, 64, 125, 216, 343, 512, 729, 1000]\n"
     ]
    },
    {
     "name": "stdin",
     "output_type": "stream",
     "text": [
      "\n",
      "\tEnter the number\n",
      " 500\n"
     ]
    },
    {
     "name": "stdout",
     "output_type": "stream",
     "text": [
      "Even number\n",
      "\n",
      "\tFiltered list with odd number\n",
      " [1, 3, 5, 7, 9]\n",
      "\n",
      "\tSorted +ve number of a list in decending order\n",
      " [6, 5, 4, 3, 2, 1, 0]\n",
      "\n",
      "\tSorted -ve number of a list in ascending order\n",
      " [-5, -4, -3, -2, -1]\n"
     ]
    }
   ],
   "source": [
    "# Q2.\n",
    "\n",
    "print('''\n",
    "\n",
    "       choose atleast one function to start the program to solve questions:\n",
    "       \n",
    "            1. Lambda function\n",
    "            2. Filter function\n",
    "            3. Map function\n",
    "            4. List Comprehension\n",
    "            ''')\n",
    "string1 = input(\"\\n\\t Enter the string \\n\")\n",
    "x = lambda s:1 if string1[0].isalpha() else 0\n",
    "if x(string1):\n",
    "    print(\"\\n\\tYes,string starts with a letter\\n\")\n",
    "else:\n",
    "    print(\"\\n\\tNo,string not starts with a letter\\n\")\n",
    "y = lambda s:1 if string1.isnumeric() else 0\n",
    "if y(string1):\n",
    "    print(\"\\n\\tYes,string is numeric\\n\")\n",
    "else:\n",
    "    print(\"\\n\\tNo,string is not numeric \\n\")\n",
    "list1 = [(\"mango\",99),(\"orange\",80), (\"grapes\", 1000)]\n",
    "newlist=sorted(list1,key= lambda x :  x[1],reverse=True)\n",
    "print(\"\\n\\tSort list by its integer value:\\n\",newlist)\n",
    "list2 = []\n",
    "for i in range(11):\n",
    "    list2.append(i)\n",
    "x = list(map(lambda s1 : s1**2,list2))\n",
    "print(\"\\n\\t\\n\",x)\n",
    "list2 = []\n",
    "for i in range(11):\n",
    "    list2.append(i)\n",
    "x = list(map(lambda s1 : s1**3,list2))\n",
    "print(\"\\n\\t\\n\",x)\n",
    "\n",
    "n = int(input(\"\\n\\tEnter the number\\n\"))\n",
    "x = lambda x1 : 1 if n % 2 == 0 else 0\n",
    "if x(n):\n",
    "    print(\"Even number\")\n",
    "else:\n",
    "    print(\"Odd number\")\n",
    "list3 = [1,2,3,4,5,6,7,8,9,10]\n",
    "x3 = list(filter(lambda x : x % 2 == 1,list3))\n",
    "print(\"\\n\\tFiltered list with odd number\\n\",x3)\n",
    "list1 = [1,2,3,4,5,6,-1,-2,-3,-4,-5,0]\n",
    "l1=[i for i in list1 if i>=0]\n",
    "l2=[i for i in list1 if i<0]\n",
    "print(\"\\n\\tSorted +ve number of a list in decending order\\n\",sorted(l1,reverse=True))\n",
    "print(\"\\n\\tSorted -ve number of a list in ascending order\\n\",sorted(l2))\n",
    "      "
   ]
  },
  {
   "cell_type": "code",
   "execution_count": null,
   "id": "d2844b3e-28d3-47d8-aee4-26c25c69452f",
   "metadata": {},
   "outputs": [],
   "source": []
  },
  {
   "cell_type": "code",
   "execution_count": null,
   "id": "06089769-1178-475b-a9d0-8180caa9abeb",
   "metadata": {},
   "outputs": [],
   "source": []
  }
 ],
 "metadata": {
  "kernelspec": {
   "display_name": "Python 3 (ipykernel)",
   "language": "python",
   "name": "python3"
  },
  "language_info": {
   "codemirror_mode": {
    "name": "ipython",
    "version": 3
   },
   "file_extension": ".py",
   "mimetype": "text/x-python",
   "name": "python",
   "nbconvert_exporter": "python",
   "pygments_lexer": "ipython3",
   "version": "3.10.8"
  }
 },
 "nbformat": 4,
 "nbformat_minor": 5
}
